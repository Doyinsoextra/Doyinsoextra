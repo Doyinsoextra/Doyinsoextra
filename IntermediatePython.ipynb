{
  "cells": [
    {
      "cell_type": "markdown",
      "metadata": {
        "id": "view-in-github",
        "colab_type": "text"
      },
      "source": [
        "<a href=\"https://colab.research.google.com/github/Doyinsoextra/Doyinsoextra/blob/main/IntermediatePython.ipynb\" target=\"_parent\"><img src=\"https://colab.research.google.com/assets/colab-badge.svg\" alt=\"Open In Colab\"/></a>"
      ]
    },
    {
      "cell_type": "markdown",
      "id": "7d17c003-b142-4e1a-b48f-21d29ec3dbaa",
      "metadata": {
        "id": "7d17c003-b142-4e1a-b48f-21d29ec3dbaa"
      },
      "source": [
        "# Module 2 (Assignment)"
      ]
    },
    {
      "cell_type": "markdown",
      "id": "c4e0ade3-8b31-4601-93a6-64d4f5746c00",
      "metadata": {
        "id": "c4e0ade3-8b31-4601-93a6-64d4f5746c00"
      },
      "source": [
        "### Qs 1. \n",
        "a. Write a function called `make_album()` that builds a dictionary describing a music album. The function should take in an artist name and an\n",
        "album title, and it should return a dictionary containing these two pieces of information. Use the function to make three dictionaries representing different albums. \n",
        "Print each return value to show that the dictionaries are storing the \n",
        "album information correctly.\n",
        "    \n",
        "b. Use `None` to add an optional parameter to `make_album()` that allows you to store the number of songs on an album. If the calling line includes a value for\n",
        "the number of songs, add that value to the album’s dictionary. Make at least one new function call that includes the number of songs on an album.\n",
        "\n",
        "    \n",
        "c. Write an updated version of the function above called `make_album_updated()` that accepts the ***required*** arguments `artist_name`, `album_title`, `num_of_songs` and some ***arbitrary optional*** arguments like `year_released`, etc."
      ]
    },
    {
      "cell_type": "code",
      "execution_count": null,
      "id": "ad9150c6-90a8-4dfa-81b2-c0c4365012ac",
      "metadata": {
        "scrolled": true,
        "id": "ad9150c6-90a8-4dfa-81b2-c0c4365012ac"
      },
      "outputs": [],
      "source": [
        "# Enter your code here\n"
      ]
    },
    {
      "cell_type": "markdown",
      "id": "d7084130-c60d-4f91-9bea-a4426b620935",
      "metadata": {
        "id": "d7084130-c60d-4f91-9bea-a4426b620935"
      },
      "source": [
        "### Qs 2. \n",
        "\n",
        "* Write an `if-elif-else` chain that determines a person’s stage of life. Set a value for the variable `age`, and then:\n",
        "    * If the person is ***less than 2 years old***, print a message that the person is a ***baby***.\n",
        "    * If the person is ***at least 2 years old but less than 4***, print a message that the person is a ***toddler***.\n",
        "    * If the person is ***at least 4 years old but less than 13***, print a message that the person is a ***kid***.\n",
        "    * If the person is ***at least 13 years old but less than 20***, print a message that the person is a ***teenager***.\n",
        "    * If the person is ***at least 20 years old but less than 65***, print a message that the person is an ***adult***.\n",
        "    * If the person is ***age 65 or older***, print a message that the person is an ***elder***."
      ]
    },
    {
      "cell_type": "code",
      "execution_count": null,
      "id": "97c56b2a-1395-4894-be9f-7739aa190dea",
      "metadata": {
        "scrolled": true,
        "id": "97c56b2a-1395-4894-be9f-7739aa190dea"
      },
      "outputs": [],
      "source": [
        "# Enter your code here\n"
      ]
    },
    {
      "cell_type": "markdown",
      "id": "e9728419-f5b9-47c2-bca4-161094de2718",
      "metadata": {
        "id": "e9728419-f5b9-47c2-bca4-161094de2718"
      },
      "source": [
        "### Qs 3. \n",
        "Given the string **\"For the winter break I had a list of stories I wanted to write\"**. Write a program that:\n",
        "\n",
        "a. creates a ***list*** containing each word as an element in the list.\n",
        "\n",
        "b. turns all the ***words*** in the string to ***title casing***.\n",
        "\n",
        "c. turns all the ***words*** in the string to ***upper casing***."
      ]
    },
    {
      "cell_type": "code",
      "execution_count": null,
      "id": "5aec5259-59b8-4d3b-9724-4307c90f4ed3",
      "metadata": {
        "scrolled": true,
        "id": "5aec5259-59b8-4d3b-9724-4307c90f4ed3"
      },
      "outputs": [],
      "source": [
        "# Enter your code here\n"
      ]
    },
    {
      "cell_type": "markdown",
      "id": "267642c5-69c1-4dd2-8c86-01b1b981ace7",
      "metadata": {
        "id": "267642c5-69c1-4dd2-8c86-01b1b981ace7"
      },
      "source": [
        "### Qs 4. \n",
        "Make a dictionary called `cities`. Use the names of three cities as keys in your dictionary. Create a dictionary of information about each city and\n",
        "include the country that the city is in, its approximate population, and one fact about that city. The keys for each city’s dictionary should be something like\n",
        "***country***, ***population***, and ***fact***. Print the name of each city and all of the information you have stored about it."
      ]
    },
    {
      "cell_type": "code",
      "execution_count": null,
      "id": "c8fd468d-bcd7-4f51-afff-b4cf573aac70",
      "metadata": {
        "scrolled": true,
        "id": "c8fd468d-bcd7-4f51-afff-b4cf573aac70"
      },
      "outputs": [],
      "source": [
        "# Enter your code here\n"
      ]
    },
    {
      "cell_type": "markdown",
      "id": "006cd37a-9d4b-4b4e-a1b7-5a4252c9bb46",
      "metadata": {
        "tags": [],
        "id": "006cd37a-9d4b-4b4e-a1b7-5a4252c9bb46"
      },
      "source": [
        "### Qs 5. \n",
        "Write a Python function called `calculate_length_of_dict_values()` to find the ***length*** of a given dictionary values. \n",
        "e.g\n",
        "\n",
        "```Python\n",
        "my_dict = {1: 'red', 2: 'green', 3: 'black', 4: 'white'}\n",
        "\n",
        "calculate_length_of_dict_values(my_dict)\n",
        "```\n",
        "**`Output`**:\n",
        "```Python\n",
        "{'red': 3, 'green': 5, 'black': 5, 'white': 5}\n",
        "```"
      ]
    },
    {
      "cell_type": "code",
      "execution_count": null,
      "id": "11b77e0d-9065-4e27-aaf2-d23473c48e3e",
      "metadata": {
        "scrolled": true,
        "id": "11b77e0d-9065-4e27-aaf2-d23473c48e3e"
      },
      "outputs": [],
      "source": [
        "# Enter your code here\n"
      ]
    },
    {
      "cell_type": "markdown",
      "id": "27539883-af94-46d2-bdad-def7a42dccdf",
      "metadata": {
        "id": "27539883-af94-46d2-bdad-def7a42dccdf"
      },
      "source": [
        "### Qs 6. \n",
        "Given the dict: \n",
        "\n",
        "```Python\n",
        "my_dict = {\n",
        "    \"isbn\": \"123-456-222\",\n",
        "    \"author\": {\"lastname\": \"Doe\", \"firstname\": \"Jane\"},\n",
        "    \"editor\": {\"lastname\": \"Smith\", \"firstname\": \"Jane\"},\n",
        "    \"title\": \"The Ultimate Database Study Guide\",\n",
        "    \"category\": [\"Non-Fiction\", \"Technology\"],\n",
        "}\n",
        "```\n",
        "\n",
        "a. select the category `Technology`.\n",
        "\n",
        "b. select the editior's `firstname`."
      ]
    },
    {
      "cell_type": "code",
      "execution_count": null,
      "id": "e8d00a8a-7462-487f-8527-717d75458abd",
      "metadata": {
        "scrolled": true,
        "id": "e8d00a8a-7462-487f-8527-717d75458abd"
      },
      "outputs": [],
      "source": [
        "# Enter your code here\n"
      ]
    },
    {
      "cell_type": "code",
      "execution_count": null,
      "id": "1d86401d-74e3-4f10-b30c-d4411f0ae05b",
      "metadata": {
        "scrolled": true,
        "id": "1d86401d-74e3-4f10-b30c-d4411f0ae05b"
      },
      "outputs": [],
      "source": []
    }
  ],
  "metadata": {
    "kernelspec": {
      "display_name": "ds_personal",
      "language": "python",
      "name": "ds_personal"
    },
    "language_info": {
      "codemirror_mode": {
        "name": "ipython",
        "version": 3
      },
      "file_extension": ".py",
      "mimetype": "text/x-python",
      "name": "python",
      "nbconvert_exporter": "python",
      "pygments_lexer": "ipython3",
      "version": "3.10.0"
    },
    "colab": {
      "provenance": [],
      "include_colab_link": true
    }
  },
  "nbformat": 4,
  "nbformat_minor": 5
}